{
 "cells": [
  {
   "cell_type": "code",
   "execution_count": null,
   "id": "eae6fe82-4e6a-4221-b2c0-097eaaed7517",
   "metadata": {},
   "outputs": [],
   "source": []
  }
 ],
 "metadata": {
  "kernelspec": {
   "display_name": "",
   "name": ""
  },
  "language_info": {
   "name": ""
  }
 },
 "nbformat": 4,
 "nbformat_minor": 5
}
